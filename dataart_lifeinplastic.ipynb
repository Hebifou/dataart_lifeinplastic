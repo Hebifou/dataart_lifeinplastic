{
  "nbformat": 4,
  "nbformat_minor": 0,
  "metadata": {
    "colab": {
      "provenance": []
    },
    "kernelspec": {
      "name": "python3",
      "display_name": "Python 3"
    },
    "language_info": {
      "name": "python"
    }
  },
  "cells": [
    {
      "cell_type": "markdown",
      "source": [
        "# Life in Plastic - Reproducible Version"
      ],
      "metadata": {
        "id": "_FlU668uxlkE"
      }
    },
    {
      "cell_type": "markdown",
      "source": [
        "# 1. Setup"
      ],
      "metadata": {
        "id": "OZZI1uKLy-LD"
      }
    },
    {
      "cell_type": "code",
      "source": [
        "#Imports\n",
        "import numpy as np\n",
        "import matplotlib.pyplot as plt\n",
        "from matplotlib.patches import Circle\n",
        "from matplotlib.animation import FuncAnimation, FFMpegWriter, PillowWriter\n",
        "import os\n"
      ],
      "metadata": {
        "id": "cJYgnEtCxg9A"
      },
      "execution_count": 6,
      "outputs": []
    },
    {
      "cell_type": "markdown",
      "source": [
        "# 2. Simulated dataset (2020–2090 projection)\n"
      ],
      "metadata": {
        "id": "VpcdgmeHx6d0"
      }
    },
    {
      "cell_type": "code",
      "source": [
        "years = np.arange(2020, 2091)\n",
        "n = len(years)\n",
        "\n",
        "# Synthetic trend data (example)\n",
        "total_plastic = 80 * (1.04 ** np.arange(n))       #total plastic index\n",
        "brand_plastic = 1.2 * (1.03 ** np.arange(n))      #brand index\n"
      ],
      "metadata": {
        "id": "Bfeh4hZrxvMW"
      },
      "execution_count": 7,
      "outputs": []
    },
    {
      "cell_type": "markdown",
      "source": [
        "# 3. Create figure (clean circular metaphor)\n"
      ],
      "metadata": {
        "id": "maHuzqV5yCyD"
      }
    },
    {
      "cell_type": "code",
      "source": [
        "fig, ax = plt.subplots(figsize=(6, 6))\n",
        "ax.set_aspect(\"equal\")\n",
        "ax.set_xlim(-60, 60)\n",
        "ax.set_ylim(-60, 60)\n",
        "ax.axis(\"off\")\n",
        "\n",
        "#Base patch\n",
        "bg = Circle((0, 0), radius=55, facecolor=\"#f7f7f7\", edgecolor=\"none\")\n",
        "ax.add_patch(bg)\n",
        "\n",
        "#Dynamic circles\n",
        "total_circle = Circle((0, 0), radius=10, facecolor=\"#092a47\", alpha=0.75, edgecolor=\"white\", lw=2)\n",
        "brand_ring = Circle((0, 0), radius=12, facecolor=\"none\", edgecolor=\"#f16f9b\", lw=3, alpha=0.9)\n",
        "ax.add_patch(total_circle)\n",
        "ax.add_patch(brand_ring)\n",
        "\n",
        "#Text\n",
        "title_text = ax.text(0, 42, \"Life in Plastic – Projection\", ha=\"center\", va=\"center\",\n",
        "                     fontsize=10, color=\"#092a47\", weight=\"bold\")\n",
        "year_text = ax.text(0, 30, \"\", ha=\"center\", va=\"center\", fontsize=10, color=\"#092a47\")\n",
        "metric_text = ax.text(0, -45, \"\", ha=\"center\", va=\"center\", fontsize=8, color=\"#333333\")\n",
        "\n"
      ],
      "metadata": {
        "colab": {
          "base_uri": "https://localhost:8080/",
          "height": 499
        },
        "id": "Dw9H_nHYx08v",
        "outputId": "a1572fef-266b-46b6-ae1b-7ddb5f54e34f"
      },
      "execution_count": 28,
      "outputs": [
        {
          "output_type": "display_data",
          "data": {
            "text/plain": [
              "<Figure size 600x600 with 1 Axes>"
            ],
            "image/png": "[encoded data removed]"
          },
          "metadata": {}
        }
      ]
    },
    {
      "cell_type": "markdown",
      "source": [
        "# 4. Helper scaling"
      ],
      "metadata": {
        "id": "zR178-9Vygac"
      }
    },
    {
      "cell_type": "code",
      "source": [
        "def scale_radius(x, lo, hi):\n",
        "    lo_r, hi_r = 10, 45\n",
        "    return lo_r + (hi_r - lo_r) * ((x - lo) / (hi - lo + 1e-9))\n",
        "\n",
        "min_tot, max_tot = total_plastic.min(), total_plastic.max()\n",
        "min_br,  max_br  = brand_plastic.min(), brand_plastic.max()\n",
        "\n"
      ],
      "metadata": {
        "id": "KoGQUoVxyPk8"
      },
      "execution_count": 29,
      "outputs": []
    },
    {
      "cell_type": "markdown",
      "source": [
        "# 5. Animation function\n"
      ],
      "metadata": {
        "id": "UyBEDh_Eyctp"
      }
    },
    {
      "cell_type": "code",
      "source": [
        "def animate(i):\n",
        "    r_total = scale_radius(total_plastic[i], min_tot, max_tot)\n",
        "    r_brand = scale_radius(brand_plastic[i], min_br, max_br) * 1.05\n",
        "    total_circle.set_radius(r_total)\n",
        "    brand_ring.set_radius(r_brand)\n",
        "    year_text.set_text(f\"Year: {years[i]}\")\n",
        "    metric_text.set_text(f\"Total Index: {total_plastic[i]:.1f} | Brand Index: {brand_plastic[i]:.2f}\")\n",
        "    if years[i] > 2080:\n",
        "        total_circle.set_alpha(0.6 + 0.2 * np.sin(i / 3))\n",
        "    return total_circle, brand_ring, year_text, metric_text\n",
        "\n",
        "anim = FuncAnimation(fig, animate, frames=n, interval=80, blit=False)\n"
      ],
      "metadata": {
        "id": "sb8q5JsVyThR"
      },
      "execution_count": 30,
      "outputs": []
    },
    {
      "cell_type": "markdown",
      "source": [
        "# 6. Safe save (FFmpeg → fallback Pillow)\n"
      ],
      "metadata": {
        "id": "TGssfvw4yY9V"
      }
    },
    {
      "cell_type": "code",
      "source": [
        "mp4_path = \"reports/figures/life_in_plastic.mp4\"\n",
        "gif_path = \"reports/figures/life_in_plastic.gif\"\n",
        "\n",
        "try:\n",
        "    writer = FFMpegWriter(fps=12, metadata=dict(artist=\"Hebifou\"))\n",
        "    anim.save(mp4_path, writer=writer, dpi=150)\n",
        "    print(f\"Animation saved as MP4: {mp4_path}\")\n",
        "except Exception as e:\n",
        "    print(\"FFmpeg not available, saving GIF instead. Details:\", e)\n",
        "    writer = PillowWriter(fps=12)\n",
        "    anim.save(gif_path, writer=writer)\n",
        "    print(f\"Animation saved as GIF: {gif_path}\")"
      ],
      "metadata": {
        "colab": {
          "base_uri": "https://localhost:8080/"
        },
        "id": "1Dsgm7VfyWIz",
        "outputId": "78085f98-7a94-4053-c7b8-2d9c93954ca1"
      },
      "execution_count": 31,
      "outputs": [
        {
          "output_type": "stream",
          "name": "stdout",
          "text": [
            "Animation saved as MP4: reports/figures/life_in_plastic.mp4\n"
          ]
        }
      ]
    },
    {
      "cell_type": "markdown",
      "source": [
        "# 7. Save two static frames for README"
      ],
      "metadata": {
        "id": "W39EJnWJyqlh"
      }
    },
    {
      "cell_type": "code",
      "source": [
        "def save_frame(fig, frame_idx, path):\n",
        "    anim._draw_next_frame(frame_idx, blit=False)\n",
        "    fig.savefig(path, dpi=300, bbox_inches=\"tight\")\n",
        "\n",
        "save_frame(fig, 0, \"reports/figures/life_in_plastic_start.png\")\n",
        "save_frame(fig, len(years) - 1, \"reports/figures/life_in_plastic_end.png\")\n",
        "print(\"Saved static frames for README.\")\n",
        "\n",
        "plt.close(fig)"
      ],
      "metadata": {
        "colab": {
          "base_uri": "https://localhost:8080/"
        },
        "id": "NKoT3epRyoyE",
        "outputId": "79cffa05-74bd-4b0b-bec5-d077b642f0ac"
      },
      "execution_count": 32,
      "outputs": [
        {
          "output_type": "stream",
          "name": "stdout",
          "text": [
            "Saved static frames for README.\n"
          ]
        }
      ]
    }
  ]
}